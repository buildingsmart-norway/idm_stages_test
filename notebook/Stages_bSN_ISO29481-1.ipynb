{
 "cells": [
  {
   "cell_type": "markdown",
   "metadata": {},
   "source": [
    "# Program the idm_stages ontology\n",
    "\n",
    "The developments of the buildingSMART Norway Guide inlcuded the adoption of stages, which was based on the IDM standard (ISO 29481-1:2010 Building information modelling). This is a program to make a machine readable ontology of these, and its mappings. We'd name it idm_stages. \n",
    "\n",
    "In this notebook we will be programming the bSN Stages (prosjektfaseinndeling) and its mappings to Norsk Fasenorm and RIBA Plan of Work, as found in [definitions folder](definitions).\n",
    "\n",
    "We will also provide relevant mappings as link sets and will be using the [EUROTL Framework](https://www.roadotl.eu/static/eurotl-ontologies/index.html) by subclassing [Life Cycle Stage](https://eurotl.laces-viewer.tech/#/view?uri=http%3A%2F%2Fwww.roadotl.eu%2Fdef%2FLifecyclePhase)"
   ]
  },
  {
   "cell_type": "code",
   "execution_count": 1,
   "metadata": {},
   "outputs": [],
   "source": [
    "# We use xlrd library to parse the excel file containing the stages definitions and mappings to other stage/phase models\n",
    "import xlrd\n",
    "# We use os for file and folder location functionality in the script. \n",
    "import os"
   ]
  },
  {
   "cell_type": "markdown",
   "metadata": {},
   "source": [
    "Ensure that you use the correct path to access the file on your system!"
   ]
  },
  {
   "cell_type": "code",
   "execution_count": 2,
   "metadata": {},
   "outputs": [
    {
     "name": "stdout",
     "output_type": "stream",
     "text": [
      "You specify the path to the file as:  /Users/Sigve/Projects/bSN/lifecyclestagesontology/definitions/bsng_faser_fn_pow.xlsx\n"
     ]
    }
   ],
   "source": [
    "currentPath = os.getcwd()\n",
    "pathFolderData = os.path.abspath( os.path.join( currentPath , os.pardir ) )\n",
    "pathToFile = os.path.join( pathFolderData , \"definitions\" , \"bsng_faser_fn_pow.xlsx\" )\n",
    "print( \"You specify the path to the file as: \" , pathToFile )"
   ]
  },
  {
   "cell_type": "code",
   "execution_count": 3,
   "metadata": {},
   "outputs": [
    {
     "name": "stdout",
     "output_type": "stream",
     "text": [
      "This are the sheets in you file: \n",
      "['Stages']\n"
     ]
    }
   ],
   "source": [
    "wb = xlrd.open_workbook( pathToFile )\n",
    "\n",
    "print( \"This are the sheets in you file: \" )\n",
    "print( wb.sheet_names() )"
   ]
  },
  {
   "cell_type": "code",
   "execution_count": 4,
   "metadata": {},
   "outputs": [
    {
     "name": "stdout",
     "output_type": "stream",
     "text": [
      "buildingSMART Norge Guiden\n",
      "Prosjektfaseinndeling\n",
      "Basert på ISO 29481-1\n",
      "Koblet med Norsk fasenorm og RIBA Plan of Work faseinndeling\n",
      "\n",
      "Number of columns: 12\n",
      "Number of Rows: 17\n"
     ]
    }
   ],
   "source": [
    "stages_sheet = wb.sheet_by_name( \"Stages\" )\n",
    "print(stages_sheet.cell_value(0,0)+\"\\n\")\n",
    "print(\"Number of columns: {}\\nNumber of Rows: {}\".format(stages_sheet.ncols,stages_sheet.nrows))"
   ]
  },
  {
   "cell_type": "code",
   "execution_count": 5,
   "metadata": {},
   "outputs": [
    {
     "name": "stdout",
     "output_type": "stream",
     "text": [
      "Column nr: 0\tFase/Stage ID\n",
      "Column nr: 1\tFase navn norsk\n",
      "Column nr: 2\tFase beskrivelse\n",
      "Column nr: 3\tStage name English\n",
      "Column nr: 4\tStage description\n",
      "Column nr: 5\t\n",
      "Column nr: 6\tFasenorm steg\n",
      "Column nr: 7\tFasenorm faser\n",
      "Column nr: 8\t\n",
      "Column nr: 9\tPoW stages\n",
      "Column nr: 10\tPlan of Work Core objective\n",
      "Column nr: 11\tPoW stage color code\n"
     ]
    }
   ],
   "source": [
    "# Headings for respective bSN, Fasenorm and Riba Plan of works. \n",
    "for i in range(stages_sheet.ncols):\n",
    "    print(\"Column nr: \"+str(i)+\"\\t\"+stages_sheet.cell_value(2,i))"
   ]
  },
  {
   "cell_type": "code",
   "execution_count": 6,
   "metadata": {},
   "outputs": [
    {
     "name": "stdout",
     "output_type": "stream",
     "text": [
      "IDM Stage: S00  :  Neste Steg 1.0:    RIBA Plan Of Wok 0.0\n",
      "----------------------------------------------------------\n",
      "IDM Stage: S01  :  Neste Steg 1.0:    RIBA Plan Of Wok 0.0\n",
      "----------------------------------------------------------\n",
      "IDM Stage: S02  :  Neste Steg 2.0:    RIBA Plan Of Wok 1.0\n",
      "----------------------------------------------------------\n",
      "IDM Stage: S03  :  Neste Steg 2.0:    RIBA Plan Of Wok 1.0\n",
      "----------------------------------------------------------\n",
      "IDM Stage: S04  :  Neste Steg 3.0:    RIBA Plan Of Wok 2.0\n",
      "----------------------------------------------------------\n",
      "IDM Stage: S05  :  Neste Steg 3.0:    RIBA Plan Of Wok 3.0\n",
      "----------------------------------------------------------\n",
      "IDM Stage: S06.1:  Neste Steg 4.0:    RIBA Plan Of Wok 4.0\n",
      "----------------------------------------------------------\n",
      "IDM Stage: S06.2:  Neste Steg 4.0:    RIBA Plan Of Wok 4.0\n",
      "----------------------------------------------------------\n",
      "IDM Stage: S07  :  Neste Steg 4.0:    RIBA Plan Of Wok 4.0\n",
      "----------------------------------------------------------\n",
      "IDM Stage: S08.1:  Neste Steg 5.0:    RIBA Plan Of Wok 5.0\n",
      "----------------------------------------------------------\n",
      "IDM Stage: S08.2:  Neste Steg 5.0:    RIBA Plan Of Wok 5.0\n",
      "----------------------------------------------------------\n",
      "IDM Stage: S08.3:  Neste Steg 6.0:    RIBA Plan Of Wok 6.0\n",
      "----------------------------------------------------------\n",
      "IDM Stage: S09  :  Neste Steg 7.0:    RIBA Plan Of Wok 7.0\n",
      "----------------------------------------------------------\n",
      "IDM Stage: S10  :  Neste Steg 8.0:    RIBA Plan Of Wok N/A\n",
      "----------------------------------------------------------\n"
     ]
    }
   ],
   "source": [
    "# Mappings between IDM , Fase Norm and Plan of Work\n",
    "for i in range(3,stages_sheet.nrows):\n",
    "    idm_stage = stages_sheet.cell_value(i,0)\n",
    "    next_stage = stages_sheet.cell_value(i,6)\n",
    "    riba_stage = stages_sheet.cell_value(i,9)\n",
    "    if len(idm_stage) < 5: ## Print formatting\n",
    "        idm_stage = idm_stage + \"  \"\n",
    "    j = i   \n",
    "    while next_stage == \"\":\n",
    "        j = j-1\n",
    "        next_stage = stages_sheet.cell_value(j,6)\n",
    "    k = i\n",
    "    while riba_stage == \"\":\n",
    "        k = k-1\n",
    "        riba_stage = stages_sheet.cell_value(k,9)\n",
    "    string = \"IDM Stage: {}:  Neste Steg {}:    RIBA Plan Of Wok {}\".format(idm_stage,next_stage,riba_stage)\n",
    "    border = len(string)*\"-\"\n",
    "    print(string)\n",
    "    print(border)"
   ]
  },
  {
   "cell_type": "markdown",
   "metadata": {},
   "source": [
    "## Creating the IDM_Stages onotlogy"
   ]
  },
  {
   "cell_type": "code",
   "execution_count": 7,
   "metadata": {},
   "outputs": [],
   "source": [
    "# Import needed components from rdflib\n",
    "from rdflib import Graph , Literal , BNode , Namespace , RDF , RDFS , OWL , URIRef\n",
    "\n",
    "# initiate triple store, i.e. Graph()\n",
    "g = Graph()\n",
    "\n",
    "# Add namespaces\n",
    "g.bind( \"owl\" , OWL )\n",
    "EUROTL = Namespace( \"http://www.roadotl.eu/def/\" )\n",
    "g.bind( \"eurotl\" , EUROTL )\n",
    "NS = Namespace( \"https://ont.buildingsmart.no/idm_stages/\" )\n",
    "g.bind( \"idm_stage\" , NS )\n",
    "\n",
    "# Initiate ontology entity\n",
    "s = URIRef( \"https://ont.buildingsmart.no/idm_stages/\" )\n",
    "p = RDF.type\n",
    "o = OWL.ontology\n",
    "g.add( ( s , p , o ) )"
   ]
  },
  {
   "cell_type": "code",
   "execution_count": 8,
   "metadata": {},
   "outputs": [],
   "source": [
    "for i in range(3,stages_sheet.nrows):\n",
    "    \n",
    "    stageID = str( stages_sheet.cell_value( i , 0 ) ).replace(\".\",\"_\")\n",
    "    #print( \"Stage ID:\" , stageID )\n",
    "    s = NS[ \"Stage_\"+stageID ]\n",
    "    p = RDF.type\n",
    "    o = EUROTL[ \"LifecyclePhase\" ]\n",
    "    g.add( ( s , p , o ) )\n",
    "    \n",
    "    stage_name = str( stages_sheet.cell_value( i , 1 ))\n",
    "    #print( \"Navn:\" , stage_name )\n",
    "    p = RDFS.label\n",
    "    o = Literal(stage_name, lang=\"no\" )\n",
    "    g.add( ( s , p , o ) )\n",
    "    \n",
    "    stage_description_no = str( stages_sheet.cell_value( i , 2 ))\n",
    "    #print( \"Beskrivelse:\" , stage_description_no )\n",
    "    p = RDFS.comment\n",
    "    o = Literal(stage_description_no, lang=\"no\" )\n",
    "    g.add( ( s , p , o ) )\n",
    "    \n",
    "    stage_name_en = str( stages_sheet.cell_value( i , 3 ))\n",
    "    #print( \"Name:\" , stage_name_en )\n",
    "    p = RDFS.label\n",
    "    o = Literal(stage_name_en, lang=\"en\" )\n",
    "    g.add( ( s , p , o ) )\n",
    "    \n",
    "    stage_description_en = str( stages_sheet.cell_value( i , 4 ))\n",
    "    #print( \"Description:\" , stage_description_en )\n",
    "    p = RDFS.comment\n",
    "    o = Literal(stage_description_en, lang=\"en\" )\n",
    "    g.add( ( s , p , o ) )\n",
    "    \n",
    "    "
   ]
  },
  {
   "cell_type": "code",
   "execution_count": 9,
   "metadata": {},
   "outputs": [
    {
     "name": "stdout",
     "output_type": "stream",
     "text": [
      "Created idm_stages.ttl\n"
     ]
    }
   ],
   "source": [
    "# print file\n",
    "g.serialize( destination = \"../filer/idm_stages.ttl\" , format = \"turtle\" )\n",
    "print( \"Created idm_stages.ttl\" )"
   ]
  },
  {
   "cell_type": "markdown",
   "metadata": {},
   "source": [
    "# Neste Steg Ontologi"
   ]
  },
  {
   "cell_type": "code",
   "execution_count": 10,
   "metadata": {},
   "outputs": [],
   "source": [
    "# initiate triple store, i.e. Graph()\n",
    "g2 = Graph()\n",
    "\n",
    "# Add namespaces\n",
    "g2.bind( \"owl\" , OWL )\n",
    "EUROTL = Namespace( \"http://www.roadotl.eu/def/\" )\n",
    "g2.bind( \"eurotl\" , EUROTL )\n",
    "NS = Namespace( \"https://ont.buildingsmart.no/fasenorm/\" )\n",
    "g2.bind( \"fasenorm\" , NS )\n",
    "\n",
    "# Initiate ontology entity\n",
    "s = URIRef( \"https://ont.buildingsmart.no/fasenorm/\" )\n",
    "p = RDF.type\n",
    "o = OWL.ontology\n",
    "g2.add( ( s , p , o ) )"
   ]
  },
  {
   "cell_type": "code",
   "execution_count": 11,
   "metadata": {},
   "outputs": [],
   "source": [
    "for i in range(3,stages_sheet.nrows):\n",
    "    \n",
    "    if stages_sheet.cell_value( i , 6 ):\n",
    "        stageID = str( stages_sheet.cell_value( i , 6 ) ).split(\".\")[0]\n",
    "        #print( \"Stage ID:\" , \"Steg\"+stageID )\n",
    "        s = NS[ \"Steg_\"+stageID ]\n",
    "        p = RDF.type\n",
    "        o = EUROTL[ \"LifecyclePhase\" ]\n",
    "        g2.add( ( s , p , o ) )\n",
    "\n",
    "        stage_name = str( stages_sheet.cell_value( i , 7 ))\n",
    "        #print( \"Navn:\" , stage_name )\n",
    "        p = RDFS.label\n",
    "        o = Literal(stage_name, lang=\"no\" )\n",
    "        g2.add( ( s , p , o ) )"
   ]
  },
  {
   "cell_type": "code",
   "execution_count": 12,
   "metadata": {},
   "outputs": [
    {
     "name": "stdout",
     "output_type": "stream",
     "text": [
      "Created neste_steg.ttl\n"
     ]
    }
   ],
   "source": [
    "# print file\n",
    "g2.serialize( destination = \"../filer/neste_steg.ttl\" , format = \"turtle\" )\n",
    "print( \"Created neste_steg.ttl\" )"
   ]
  },
  {
   "cell_type": "markdown",
   "metadata": {},
   "source": [
    "# Plan of work Ontology"
   ]
  },
  {
   "cell_type": "code",
   "execution_count": 13,
   "metadata": {},
   "outputs": [],
   "source": [
    "# initiate triple store, i.e. Graph()\n",
    "g3 = Graph()\n",
    "\n",
    "# Add namespaces\n",
    "g3.bind( \"owl\" , OWL )\n",
    "EUROTL = Namespace( \"http://www.roadotl.eu/def/\" )\n",
    "g3.bind( \"eurotl\" , EUROTL )\n",
    "NS = Namespace( \"https://ont.buildingsmart.no/plan_of_work/\" )\n",
    "g3.bind( \"plan_of_work\" , NS )\n",
    "\n",
    "# Initiate ontology entity\n",
    "s = URIRef( \"https://ont.buildingsmart.no/plan_of_work/\" )\n",
    "p = RDF.type\n",
    "o = OWL.ontology\n",
    "g3.add( ( s , p , o ) )"
   ]
  },
  {
   "cell_type": "code",
   "execution_count": 14,
   "metadata": {},
   "outputs": [],
   "source": [
    "for i in range(3,stages_sheet.nrows):\n",
    "    stageID = str( stages_sheet.cell_value( i , 9 ) ).split(\".\")[0]\n",
    "    stage_name = str( stages_sheet.cell_value( i , 10 ))\n",
    "    \n",
    "    if stageID not in (\"\",\"N/A\"):\n",
    "        #print( \"Stage ID:\" , \"Stage_\"+stageID )\n",
    "        s = NS[ \"Stage_\"+stageID ]\n",
    "        p = RDF.type\n",
    "        o = EUROTL[ \"LifecyclePhase\" ]\n",
    "        g3.add( ( s , p , o ) )\n",
    "        \n",
    "        #print( \"Name:\" , stage_name )\n",
    "        p = RDFS.label\n",
    "        o = Literal(stage_name, lang=\"en\" )\n",
    "        g3.add( ( s , p , o ) )"
   ]
  },
  {
   "cell_type": "code",
   "execution_count": 15,
   "metadata": {},
   "outputs": [
    {
     "name": "stdout",
     "output_type": "stream",
     "text": [
      "Created plan_of_work.ttl\n"
     ]
    }
   ],
   "source": [
    "# print file\n",
    "g3.serialize( destination = \"../filer/plan_of_work.ttl\" , format = \"turtle\" )\n",
    "print( \"Created plan_of_work.ttl\" )"
   ]
  },
  {
   "cell_type": "markdown",
   "metadata": {},
   "source": [
    "# Linkset IDM_stage - Fasenorm and IDM_Stage - Plan of Work"
   ]
  },
  {
   "cell_type": "code",
   "execution_count": 16,
   "metadata": {},
   "outputs": [],
   "source": [
    "# initiate triple store, i.e. Graph()\n",
    "g4 = Graph()\n",
    "\n",
    "# Add namespaces\n",
    "g4.bind( \"owl\" , OWL )\n",
    "idm_stages = Namespace( \"https://ont.buildingsmart.no/idm_stages/\" )\n",
    "g4.bind( \"idm_stage\" , idm_stages )\n",
    "fasenorm = Namespace( \"https://ont.buildingsmart.no/fasenorm/\" )\n",
    "g4.bind( \"fasenorm\" , fasenorm )\n",
    "plan_of_work = Namespace( \"https://ont.buildingsmart.no/plan_of_work/\" )\n",
    "g4.bind( \"plan_of_work\" , plan_of_work )\n",
    "\n",
    "NS = Namespace( \"https://ont.buildingsmart.no/idm_stages_alignment/\" )\n",
    "g4.bind( \"idm_stages_alignment\" , NS )\n",
    "\n",
    "# Initiate ontology entity\n",
    "s = URIRef( \"https://ont.buildingsmart.no/idm_stages_alignment/\" )\n",
    "p = RDF.type\n",
    "o = OWL.ontology\n",
    "g4.add( ( s , p , o ) )\n"
   ]
  },
  {
   "cell_type": "code",
   "execution_count": 17,
   "metadata": {},
   "outputs": [
    {
     "name": "stdout",
     "output_type": "stream",
     "text": [
      "idm stage S00 maps to fasenorm stage 1.0\n",
      "idm stage Stage_S00 maps to Plan of Work stage Stage_0\n",
      "idm stage S01 maps to fasenorm stage 1.0\n",
      "idm stage Stage_S01 maps to Plan of Work stage Stage_0\n",
      "idm stage S02 maps to fasenorm stage 2.0\n",
      "idm stage Stage_S02 maps to Plan of Work stage Stage_1\n",
      "idm stage S03 maps to fasenorm stage 2.0\n",
      "idm stage Stage_S03 maps to Plan of Work stage Stage_1\n",
      "idm stage S04 maps to fasenorm stage 3.0\n",
      "idm stage Stage_S04 maps to Plan of Work stage Stage_2\n",
      "idm stage S05 maps to fasenorm stage 3.0\n",
      "idm stage Stage_S05 maps to Plan of Work stage Stage_3\n",
      "idm stage S06.1 maps to fasenorm stage 4.0\n",
      "idm stage Stage_S06_1 maps to Plan of Work stage Stage_4\n",
      "idm stage S06.2 maps to fasenorm stage 4.0\n",
      "idm stage Stage_S06_2 maps to Plan of Work stage Stage_4\n",
      "idm stage S07 maps to fasenorm stage 4.0\n",
      "idm stage Stage_S07 maps to Plan of Work stage Stage_4\n",
      "idm stage S08.1 maps to fasenorm stage 5.0\n",
      "idm stage Stage_S08_1 maps to Plan of Work stage Stage_5\n",
      "idm stage S08.2 maps to fasenorm stage 5.0\n",
      "idm stage Stage_S08_2 maps to Plan of Work stage Stage_5\n",
      "idm stage S08.3 maps to fasenorm stage 6.0\n",
      "idm stage Stage_S08_3 maps to Plan of Work stage Stage_6\n",
      "idm stage S09 maps to fasenorm stage 7.0\n",
      "idm stage Stage_S09 maps to Plan of Work stage Stage_7\n",
      "idm stage S10 maps to fasenorm stage 8.0\n"
     ]
    }
   ],
   "source": [
    "for i in range(3,stages_sheet.nrows):\n",
    "    idm_stage = stages_sheet.cell_value(i,0)\n",
    "    next_stage = stages_sheet.cell_value(i,6)\n",
    "    riba_stage = stages_sheet.cell_value(i,9)\n",
    "\n",
    "    j = i   \n",
    "    while next_stage == \"\":\n",
    "        j = j-1\n",
    "        next_stage = stages_sheet.cell_value(j,6)\n",
    "    print(\"idm stage {} maps to fasenorm stage {}\".format(idm_stage,next_stage))\n",
    "    steg = \"Steg_\"+str(next_stage).split(\".\")[0]\n",
    "    idm_stage = \"Stage_\"+str(idm_stage).replace(\".\",\"_\")\n",
    "    \n",
    "    #print( \"Stage ID:\" , \"Steg\"+stageID )\n",
    "    s = idm_stages[ idm_stage ]\n",
    "    p = RDF.type\n",
    "    o = fasenorm [ steg ]\n",
    "    g4.add( ( s , p , o ) )\n",
    "    \n",
    "    k = i\n",
    "    while riba_stage == \"\":\n",
    "        k=k-1\n",
    "        riba_stage = stages_sheet.cell_value(k,9)\n",
    "    if riba_stage not in (\"\",\"N/A\"):\n",
    "        r_stage = \"Stage_\"+str(riba_stage).split(\".\")[0]\n",
    "        print(\"idm stage {} maps to Plan of Work stage {}\".format(idm_stage,r_stage))\n",
    "\n",
    "        p = RDF.type\n",
    "        o = plan_of_work [ r_stage ]\n",
    "        g4.add( ( s , p , o ) )\n",
    "        "
   ]
  },
  {
   "cell_type": "code",
   "execution_count": 18,
   "metadata": {},
   "outputs": [
    {
     "name": "stdout",
     "output_type": "stream",
     "text": [
      "Created idm_stages_alignment.ttl\n"
     ]
    }
   ],
   "source": [
    "# print file\n",
    "g4.serialize( destination = \"../filer/idm_stages_alignment.ttl\" , format = \"turtle\" )\n",
    "print( \"Created idm_stages_alignment.ttl\" )"
   ]
  },
  {
   "cell_type": "code",
   "execution_count": null,
   "metadata": {},
   "outputs": [],
   "source": []
  }
 ],
 "metadata": {
  "kernelspec": {
   "display_name": "Python 3",
   "language": "python",
   "name": "python3"
  },
  "language_info": {
   "codemirror_mode": {
    "name": "ipython",
    "version": 3
   },
   "file_extension": ".py",
   "mimetype": "text/x-python",
   "name": "python",
   "nbconvert_exporter": "python",
   "pygments_lexer": "ipython3",
   "version": "3.7.3"
  }
 },
 "nbformat": 4,
 "nbformat_minor": 2
}
